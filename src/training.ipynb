{
 "cells": [
  {
   "metadata": {
    "ExecuteTime": {
     "end_time": "2025-01-19T17:34:22.883712Z",
     "start_time": "2025-01-19T17:32:45.425240Z"
    }
   },
   "cell_type": "code",
   "source": [
    "from gcp.load_file import GCSLoader\n",
    "import os\n",
    "import tempfile\n",
    "\n",
    "gcs = GCSLoader(\"raw_avros\")\n",
    "folder = \"test\"\n",
    "for blob_name in gcs.list_files():\n",
    "    gcs.load_to_path(blob_name, os.path.join(folder, blob_name))"
   ],
   "id": "615db6c4afb40216",
   "outputs": [
    {
     "name": "stderr",
     "output_type": "stream",
     "text": [
      "2025-01-19 18:32:45,427 - INFO - Initializing GCS Loader\n",
      "2025-01-19 18:32:45,801 - INFO - GCS Loader initialized\n"
     ]
    }
   ],
   "execution_count": 3
  },
  {
   "cell_type": "code",
   "id": "initial_id",
   "metadata": {
    "collapsed": true,
    "ExecuteTime": {
     "end_time": "2025-01-19T17:37:39.771844Z",
     "start_time": "2025-01-19T17:37:39.601129Z"
    }
   },
   "source": [
    "import glob\n",
    "import numpy as np\n",
    "import avro.datafile\n",
    "import avro.io\n",
    "from schema import SCHEMA\n",
    "\n",
    "def load_avro_data(schema_dict, data_path):\n",
    "    # Get list of numeric fields (excluding strings and target variable)\n",
    "    numeric_fields = [\n",
    "        field[\"name\"] for field in schema_dict[\"fields\"]\n",
    "        if field[\"type\"] in [\"double\", \"long\"]\n",
    "        and field[\"name\"] != \"flight_time_to_arrival\"\n",
    "    ]\n",
    "\n",
    "    # Initialize lists to store features and target\n",
    "    features = []\n",
    "    targets = []\n",
    "\n",
    "    # Process each AVRO file in the directory\n",
    "    for avro_file in glob.glob(data_path):\n",
    "        with avro.datafile.DataFileReader(open(avro_file, 'rb'), avro.io.DatumReader()) as reader:\n",
    "            for record in reader:\n",
    "                # Extract numeric features\n",
    "                feature_row = [record[field] for field in numeric_fields]\n",
    "                features.append(feature_row)\n",
    "\n",
    "                # Extract target variable\n",
    "                targets.append(record[\"flight_time_to_arrival\"])\n",
    "\n",
    "    # Convert to numpy arrays\n",
    "    X = np.array(features)\n",
    "    y = np.array(targets)\n",
    "\n",
    "    # Get feature names for reference\n",
    "    feature_names = numeric_fields\n",
    "\n",
    "    return X, y, feature_names"
   ],
   "outputs": [],
   "execution_count": 5
  },
  {
   "metadata": {
    "ExecuteTime": {
     "end_time": "2025-01-19T17:39:47.159105Z",
     "start_time": "2025-01-19T17:37:48.269269Z"
    }
   },
   "cell_type": "code",
   "source": [
    "# Load the data\n",
    "data_path = \"test/*.avro\"#\"../data/training_data/*.avro\"\n",
    "X, y, feature_names = load_avro_data(SCHEMA, data_path)\n",
    "\n",
    "# Print dataset information\n",
    "print(f\"Features shape: {X.shape}\")\n",
    "print(f\"Target shape: {y.shape}\")\n",
    "print(\"\\nFeature names:\")\n",
    "for i, name in enumerate(feature_names):\n",
    "    print(f\"{i}: {name}\")"
   ],
   "id": "df799b04293c3b74",
   "outputs": [
    {
     "name": "stdout",
     "output_type": "stream",
     "text": [
      "Features shape: (2147851, 21)\n",
      "Target shape: (2147851,)\n",
      "\n",
      "Feature names:\n",
      "0: timestamp\n",
      "1: flight_location_latitude\n",
      "2: flight_location_longitude\n",
      "3: flight_arrival_airport_location_latitude\n",
      "4: flight_arrival_airport_location_longitude\n",
      "5: flight_timestamp\n",
      "6: flight_horizontal_speed\n",
      "7: flight_altitude\n",
      "8: flight_vertical_speed\n",
      "9: flight_heading\n",
      "10: flight_distance_to_destination\n",
      "11: flight_arrival_time\n",
      "12: weather_timestamp\n",
      "13: weather_temperature_celsius\n",
      "14: weather_feels_like_celsius\n",
      "15: weather_wind_speed_kph\n",
      "16: weather_humidity_percent\n",
      "17: weather_precipitation_mm\n",
      "18: weather_visibility_km\n",
      "19: weather_pressure_mb\n",
      "20: weather_uv_index\n"
     ]
    }
   ],
   "execution_count": 7
  },
  {
   "metadata": {
    "ExecuteTime": {
     "end_time": "2025-01-05T20:04:48.218934Z",
     "start_time": "2025-01-05T20:04:48.018095Z"
    }
   },
   "cell_type": "code",
   "source": [
    "import json\n",
    "\n",
    "np.save('X_features.npy', X)\n",
    "np.save('y_target.npy', y)\n",
    "with open('feature_names.json', 'w') as f:\n",
    "    json.dump(feature_names, f)"
   ],
   "id": "ebe619f7340f56c8",
   "outputs": [],
   "execution_count": 3
  },
  {
   "metadata": {
    "ExecuteTime": {
     "end_time": "2025-01-07T19:16:17.746122Z",
     "start_time": "2025-01-07T19:16:17.341265Z"
    }
   },
   "cell_type": "code",
   "source": [
    "import json\n",
    "\n",
    "X = np.load('X_features.npy')\n",
    "y = np.load('y_target.npy')\n",
    "with open('feature_names.json', 'r') as f:\n",
    "    feature_names = json.load(f)"
   ],
   "id": "6a665307caa79872",
   "outputs": [],
   "execution_count": 36
  },
  {
   "metadata": {
    "ExecuteTime": {
     "end_time": "2025-01-19T17:41:36.278485Z",
     "start_time": "2025-01-19T17:40:02.960927Z"
    }
   },
   "cell_type": "code",
   "source": [
    "import pandas as pd\n",
    "from sklearn.model_selection import train_test_split\n",
    "from sklearn.preprocessing import StandardScaler\n",
    "from sklearn.ensemble import RandomForestRegressor\n",
    "import matplotlib.pyplot as plt\n",
    "from sklearn.metrics import mean_squared_error, r2_score\n",
    "\n",
    "\n",
    "# Take a smaller sample for initial feature importance analysis\n",
    "SAMPLE_SIZE = 100000\n",
    "np.random.seed(42)\n",
    "sample_indices = np.random.choice(X.shape[0], SAMPLE_SIZE, replace=False)\n",
    "X_sample = X[sample_indices]\n",
    "y_sample = y[sample_indices]\n",
    "\n",
    "print(\"\\nAnalyzing feature importance on sample...\")\n",
    "# Quick correlation analysis\n",
    "df_sample = pd.DataFrame(X_sample, columns=feature_names)\n",
    "correlations = df_sample.corrwith(pd.Series(y_sample))\n",
    "correlations_sorted = correlations.abs().sort_values(ascending=False)\n",
    "\n",
    "print(\"\\nTop 10 correlations with target:\")\n",
    "print(correlations_sorted.head(10))\n",
    "\n",
    "# Random Forest on sample for feature importance\n",
    "rf_sample = RandomForestRegressor(n_estimators=50, max_depth=15, n_jobs=-1, random_state=42)\n",
    "rf_sample.fit(X_sample, y_sample)\n",
    "\n",
    "# Get feature importance\n",
    "importance_df = pd.DataFrame({\n",
    "    'feature': feature_names,\n",
    "    'importance': rf_sample.feature_importances_\n",
    "}).sort_values('importance', ascending=False)\n",
    "\n",
    "print(\"\\nTop 10 Most Important Features (Random Forest):\")\n",
    "print(importance_df.head(10))\n",
    "\n",
    "# Plot top 15 feature importances\n",
    "plt.figure(figsize=(12, 6))\n",
    "importance_df.head(15).plot(x='feature', y='importance', kind='bar')\n",
    "plt.title('Top 15 Feature Importance (Random Forest)')\n",
    "plt.xticks(rotation=45, ha='right')\n",
    "plt.tight_layout()\n",
    "plt.show()\n",
    "\n",
    "# Select top important features (using importance threshold)\n",
    "IMPORTANCE_THRESHOLD = 0.01  # adjust based on the results\n",
    "important_features = importance_df[importance_df['importance'] > IMPORTANCE_THRESHOLD]\n",
    "important_feature_names = important_features['feature'].tolist()\n",
    "\n",
    "print(f\"\\nSelected {len(important_feature_names)} important features with threshold {IMPORTANCE_THRESHOLD}\")\n",
    "print(\"Important features:\", important_feature_names)\n",
    "\n",
    "# Train final model using important features only\n",
    "print(\"\\nTraining final model on full dataset with selected features...\")\n",
    "X_important = X[:, [feature_names.index(feat) for feat in important_feature_names]]\n",
    "print(X_important.shape)\n",
    "\n",
    "# Split the data\n",
    "X_train, X_test, y_train, y_test = train_test_split(X_important, y, test_size=0.2, random_state=42)\n",
    "\n",
    "# Scale the features\n",
    "scaler = StandardScaler()\n",
    "X_train_scaled = scaler.fit_transform(X_train)\n",
    "X_test_scaled = scaler.transform(X_test)\n",
    "\n",
    "# Train final model\n",
    "final_rf = RandomForestRegressor(n_estimators=100, max_depth=15, n_jobs=-1, random_state=42)\n",
    "final_rf.fit(X_train_scaled, y_train)\n",
    "\n",
    "# Evaluate model\n",
    "y_pred = final_rf.predict(X_test_scaled)\n",
    "rmse = np.sqrt(mean_squared_error(y_test, y_pred))\n",
    "mae = np.mean(np.abs(y_test - y_pred))\n",
    "r2 = r2_score(y_test, y_pred)\n",
    "\n",
    "print(\"\\nModel Performance:\")\n",
    "print(f\"Test RMSE: {rmse:.2f}\")\n",
    "print(f\"Test MAE: {mae:.2f}\")\n",
    "print(f\"Test R2: {r2:.4f}\")"
   ],
   "id": "b3546667933908f3",
   "outputs": [
    {
     "name": "stdout",
     "output_type": "stream",
     "text": [
      "\n",
      "Analyzing feature importance on sample...\n",
      "\n",
      "Top 10 correlations with target:\n",
      "flight_distance_to_destination              0.932942\n",
      "flight_altitude                             0.450981\n",
      "flight_horizontal_speed                     0.286410\n",
      "flight_vertical_speed                       0.169617\n",
      "flight_arrival_airport_location_latitude    0.077369\n",
      "flight_location_latitude                    0.073622\n",
      "weather_feels_like_celsius                  0.063756\n",
      "weather_temperature_celsius                 0.063033\n",
      "weather_humidity_percent                    0.032417\n",
      "timestamp                                   0.018190\n",
      "dtype: float64\n",
      "\n",
      "Top 10 Most Important Features (Random Forest):\n",
      "                                      feature  importance\n",
      "10             flight_distance_to_destination    0.917208\n",
      "6                     flight_horizontal_speed    0.037574\n",
      "7                             flight_altitude    0.005438\n",
      "2                   flight_location_longitude    0.004252\n",
      "9                              flight_heading    0.004039\n",
      "8                       flight_vertical_speed    0.003521\n",
      "4   flight_arrival_airport_location_longitude    0.003243\n",
      "1                    flight_location_latitude    0.003019\n",
      "15                     weather_wind_speed_kph    0.002937\n",
      "16                   weather_humidity_percent    0.002901\n"
     ]
    },
    {
     "data": {
      "text/plain": [
       "<Figure size 1200x600 with 0 Axes>"
      ]
     },
     "metadata": {},
     "output_type": "display_data"
    },
    {
     "data": {
      "text/plain": [
       "<Figure size 640x480 with 1 Axes>"
      ],
      "image/png": "[encoded data removed]"
     },
     "metadata": {},
     "output_type": "display_data"
    },
    {
     "name": "stdout",
     "output_type": "stream",
     "text": [
      "\n",
      "Selected 2 important features with threshold 0.01\n",
      "Important features: ['flight_distance_to_destination', 'flight_horizontal_speed']\n",
      "\n",
      "Training final model on full dataset with selected features...\n",
      "(2147851, 2)\n",
      "\n",
      "Model Performance:\n",
      "Test RMSE: 351.88\n",
      "Test MAE: 219.31\n",
      "Test R2: 0.9250\n"
     ]
    }
   ],
   "execution_count": 8
  },
  {
   "metadata": {
    "ExecuteTime": {
     "end_time": "2025-01-19T17:41:36.335680Z",
     "start_time": "2025-01-19T17:41:36.331116Z"
    }
   },
   "cell_type": "code",
   "source": "[feature_names.index(feat) for feat in important_feature_names]",
   "id": "488c3591deed7c05",
   "outputs": [
    {
     "data": {
      "text/plain": [
       "[10, 6]"
      ]
     },
     "execution_count": 9,
     "metadata": {},
     "output_type": "execute_result"
    }
   ],
   "execution_count": 9
  },
  {
   "metadata": {
    "ExecuteTime": {
     "end_time": "2025-01-07T19:29:30.660929Z",
     "start_time": "2025-01-07T19:29:30.620968Z"
    }
   },
   "cell_type": "code",
   "source": [
    "# Take a small random sample\n",
    "np.random.seed(42)\n",
    "sample_size = 100\n",
    "sample_idx = np.random.choice(len(X_test), sample_size, replace=False)\n",
    "X_sample = X_test[sample_idx]\n",
    "y_sample = y_test[sample_idx]\n",
    "\n",
    "y_pred = final_rf.predict(scaler.transform(X_sample))\n",
    "\n",
    "results_df = pd.DataFrame({\n",
    "    \"Distance\": X_sample[:, 0],\n",
    "    \"Speed\": X_sample[:, 1],\n",
    "    'Actual_Time_to_Arrival': y_sample,\n",
    "    'Predicted_Time_to_Arrival': y_pred,\n",
    "    'Absolute_Error': np.abs(y_sample - y_pred)\n",
    "})\n",
    "results_df"
   ],
   "id": "1de77f016b9413d",
   "outputs": [
    {
     "data": {
      "text/plain": [
       "      Distance       Speed  Actual_Time_to_Arrival  Predicted_Time_to_Arrival  \\\n",
       "0   313.120648  885.082086                    2050                1816.051830   \n",
       "1   222.125716  211.318340                    1229                2666.404618   \n",
       "2   337.180906  811.514997                    2355                1975.289269   \n",
       "3    62.541903  727.131862                     587                 626.283989   \n",
       "4   354.775747  784.590271                    2184                2077.350810   \n",
       "..         ...         ...                     ...                        ...   \n",
       "95  378.563100  649.307655                    1816                2349.054382   \n",
       "96  510.194890  797.362457                    3099                2737.412309   \n",
       "97  205.279126  852.706336                    1406                1387.781191   \n",
       "98  334.157895  442.811191                    2002                2328.895055   \n",
       "99  948.596292  235.967417                    4793                4869.994158   \n",
       "\n",
       "    Absolute_Error  \n",
       "0       233.948170  \n",
       "1      1437.404618  \n",
       "2       379.710731  \n",
       "3        39.283989  \n",
       "4       106.649190  \n",
       "..             ...  \n",
       "95      533.054382  \n",
       "96      361.587691  \n",
       "97       18.218809  \n",
       "98      326.895055  \n",
       "99       76.994158  \n",
       "\n",
       "[100 rows x 5 columns]"
      ],
      "text/html": [
       "<div>\n",
       "<style scoped>\n",
       "    .dataframe tbody tr th:only-of-type {\n",
       "        vertical-align: middle;\n",
       "    }\n",
       "\n",
       "    .dataframe tbody tr th {\n",
       "        vertical-align: top;\n",
       "    }\n",
       "\n",
       "    .dataframe thead th {\n",
       "        text-align: right;\n",
       "    }\n",
       "</style>\n",
       "<table border=\"1\" class=\"dataframe\">\n",
       "  <thead>\n",
       "    <tr style=\"text-align: right;\">\n",
       "      <th></th>\n",
       "      <th>Distance</th>\n",
       "      <th>Speed</th>\n",
       "      <th>Actual_Time_to_Arrival</th>\n",
       "      <th>Predicted_Time_to_Arrival</th>\n",
       "      <th>Absolute_Error</th>\n",
       "    </tr>\n",
       "  </thead>\n",
       "  <tbody>\n",
       "    <tr>\n",
       "      <th>0</th>\n",
       "      <td>313.120648</td>\n",
       "      <td>885.082086</td>\n",
       "      <td>2050</td>\n",
       "      <td>1816.051830</td>\n",
       "      <td>233.948170</td>\n",
       "    </tr>\n",
       "    <tr>\n",
       "      <th>1</th>\n",
       "      <td>222.125716</td>\n",
       "      <td>211.318340</td>\n",
       "      <td>1229</td>\n",
       "      <td>2666.404618</td>\n",
       "      <td>1437.404618</td>\n",
       "    </tr>\n",
       "    <tr>\n",
       "      <th>2</th>\n",
       "      <td>337.180906</td>\n",
       "      <td>811.514997</td>\n",
       "      <td>2355</td>\n",
       "      <td>1975.289269</td>\n",
       "      <td>379.710731</td>\n",
       "    </tr>\n",
       "    <tr>\n",
       "      <th>3</th>\n",
       "      <td>62.541903</td>\n",
       "      <td>727.131862</td>\n",
       "      <td>587</td>\n",
       "      <td>626.283989</td>\n",
       "      <td>39.283989</td>\n",
       "    </tr>\n",
       "    <tr>\n",
       "      <th>4</th>\n",
       "      <td>354.775747</td>\n",
       "      <td>784.590271</td>\n",
       "      <td>2184</td>\n",
       "      <td>2077.350810</td>\n",
       "      <td>106.649190</td>\n",
       "    </tr>\n",
       "    <tr>\n",
       "      <th>...</th>\n",
       "      <td>...</td>\n",
       "      <td>...</td>\n",
       "      <td>...</td>\n",
       "      <td>...</td>\n",
       "      <td>...</td>\n",
       "    </tr>\n",
       "    <tr>\n",
       "      <th>95</th>\n",
       "      <td>378.563100</td>\n",
       "      <td>649.307655</td>\n",
       "      <td>1816</td>\n",
       "      <td>2349.054382</td>\n",
       "      <td>533.054382</td>\n",
       "    </tr>\n",
       "    <tr>\n",
       "      <th>96</th>\n",
       "      <td>510.194890</td>\n",
       "      <td>797.362457</td>\n",
       "      <td>3099</td>\n",
       "      <td>2737.412309</td>\n",
       "      <td>361.587691</td>\n",
       "    </tr>\n",
       "    <tr>\n",
       "      <th>97</th>\n",
       "      <td>205.279126</td>\n",
       "      <td>852.706336</td>\n",
       "      <td>1406</td>\n",
       "      <td>1387.781191</td>\n",
       "      <td>18.218809</td>\n",
       "    </tr>\n",
       "    <tr>\n",
       "      <th>98</th>\n",
       "      <td>334.157895</td>\n",
       "      <td>442.811191</td>\n",
       "      <td>2002</td>\n",
       "      <td>2328.895055</td>\n",
       "      <td>326.895055</td>\n",
       "    </tr>\n",
       "    <tr>\n",
       "      <th>99</th>\n",
       "      <td>948.596292</td>\n",
       "      <td>235.967417</td>\n",
       "      <td>4793</td>\n",
       "      <td>4869.994158</td>\n",
       "      <td>76.994158</td>\n",
       "    </tr>\n",
       "  </tbody>\n",
       "</table>\n",
       "<p>100 rows × 5 columns</p>\n",
       "</div>"
      ]
     },
     "execution_count": 41,
     "metadata": {},
     "output_type": "execute_result"
    }
   ],
   "execution_count": 41
  },
  {
   "metadata": {
    "ExecuteTime": {
     "end_time": "2025-01-07T19:32:42.774289Z",
     "start_time": "2025-01-07T19:30:34.697494Z"
    }
   },
   "cell_type": "code",
   "source": [
    "import torch\n",
    "from torch import nn\n",
    "from torch.utils.data import Dataset, DataLoader\n",
    "from model.model import FlightNN\n",
    "from model.scaler import Scaler\n",
    "\n",
    "# Scale features and target\n",
    "scaler_X = Scaler()\n",
    "scaler_y = Scaler()\n",
    "\n",
    "X_scaled = scaler_X.fit_transform(X_important)\n",
    "y_scaled = scaler_y.fit_transform(y.reshape(-1, 1)).ravel()\n",
    "\n",
    "# Split data\n",
    "X_train, X_test, y_train, y_test = train_test_split(X_scaled, y_scaled, test_size=0.1, random_state=42)\n",
    "\n",
    "# Create PyTorch Dataset\n",
    "class FlightDataset(Dataset):\n",
    "    def __init__(self, X, y):\n",
    "        self.X = torch.FloatTensor(X)\n",
    "        self.y = torch.FloatTensor(y)\n",
    "\n",
    "    def __len__(self):\n",
    "        return len(self.X)\n",
    "\n",
    "    def __getitem__(self, idx):\n",
    "        return self.X[idx], self.y[idx]\n",
    "\n",
    "# Training function\n",
    "def train_model(model, train_loader, val_loader, criterion, optimizer, epochs, device):\n",
    "    train_losses = []\n",
    "    val_losses = []\n",
    "    best_val_loss = float('inf')\n",
    "\n",
    "    for epoch in range(epochs):\n",
    "        # Training\n",
    "        model.train()\n",
    "        train_loss = 0\n",
    "        for X_batch, y_batch in train_loader:\n",
    "            X_batch, y_batch = X_batch.to(device), y_batch.to(device)\n",
    "\n",
    "            optimizer.zero_grad()\n",
    "            y_pred = model(X_batch)\n",
    "            loss = criterion(y_pred, y_batch)\n",
    "            loss.backward()\n",
    "            optimizer.step()\n",
    "\n",
    "            train_loss += loss.item()\n",
    "\n",
    "        train_loss /= len(train_loader)\n",
    "        train_losses.append(train_loss)\n",
    "\n",
    "        # Validation\n",
    "        model.eval()\n",
    "        val_loss = 0\n",
    "        with torch.no_grad():\n",
    "            for X_batch, y_batch in val_loader:\n",
    "                X_batch, y_batch = X_batch.to(device), y_batch.to(device)\n",
    "                y_pred = model(X_batch)\n",
    "                val_loss += criterion(y_pred, y_batch).item()\n",
    "\n",
    "        val_loss /= len(val_loader)\n",
    "        val_losses.append(val_loss)\n",
    "\n",
    "        if val_loss < best_val_loss:\n",
    "            best_val_loss = val_loss\n",
    "            torch.save(model.state_dict(), 'best_model.pth')\n",
    "\n",
    "        if epoch % 5 == 0:\n",
    "            print(f'Epoch {epoch}: Train Loss = {train_loss:.4f}, Val Loss = {val_loss:.4f}')\n",
    "    # plot train loss\n",
    "    plt.plot(train_losses, label='Train Loss')\n",
    "\n",
    "# Set up training parameters\n",
    "BATCH_SIZE = 1024\n",
    "EPOCHS = 10\n",
    "LEARNING_RATE = 0.001\n",
    "device = torch.device('cuda' if torch.cuda.is_available() else 'cpu')\n",
    "print(f\"Using device: {device}\")\n",
    "\n",
    "# Create datasets and dataloaders\n",
    "train_dataset = FlightDataset(X_train, y_train)\n",
    "test_dataset = FlightDataset(X_test, y_test)\n",
    "\n",
    "train_loader = DataLoader(train_dataset, batch_size=BATCH_SIZE, shuffle=True)\n",
    "test_loader = DataLoader(test_dataset, batch_size=BATCH_SIZE)\n",
    "\n",
    "# Initialize model and training components\n",
    "model = FlightNN(input_size=X_important.shape[1]).to(device)\n",
    "criterion = nn.MSELoss()\n",
    "optimizer = torch.optim.Adam(model.parameters(), lr=LEARNING_RATE)\n",
    "\n",
    "# Train model\n",
    "print(\"Training model...\")\n",
    "train_model(model, train_loader, test_loader, criterion, optimizer, EPOCHS, device)"
   ],
   "id": "54e3cc510a53b5ce",
   "outputs": [
    {
     "name": "stdout",
     "output_type": "stream",
     "text": [
      "Using device: cpu\n",
      "Training model...\n",
      "Epoch 0: Train Loss = 0.1099, Val Loss = 0.0818\n",
      "Epoch 5: Train Loss = 0.0883, Val Loss = 0.0812\n"
     ]
    },
    {
     "data": {
      "text/plain": [
       "<Figure size 640x480 with 1 Axes>"
      ],
      "image/png": "[encoded data removed]"
     },
     "metadata": {},
     "output_type": "display_data"
    }
   ],
   "execution_count": 42
  },
  {
   "metadata": {
    "ExecuteTime": {
     "end_time": "2025-01-07T19:38:08.948511Z",
     "start_time": "2025-01-07T19:38:08.944786Z"
    }
   },
   "cell_type": "code",
   "source": [
    "# visualize model architecture\n",
    "model"
   ],
   "id": "109f83a47d239fa2",
   "outputs": [
    {
     "data": {
      "text/plain": [
       "FlightNN(\n",
       "  (network): Sequential(\n",
       "    (0): Linear(in_features=2, out_features=64, bias=True)\n",
       "    (1): ReLU()\n",
       "    (2): Dropout(p=0.2, inplace=False)\n",
       "    (3): Linear(in_features=64, out_features=32, bias=True)\n",
       "    (4): ReLU()\n",
       "    (5): Dropout(p=0.1, inplace=False)\n",
       "    (6): Linear(in_features=32, out_features=1, bias=True)\n",
       "  )\n",
       ")"
      ]
     },
     "execution_count": 43,
     "metadata": {},
     "output_type": "execute_result"
    }
   ],
   "execution_count": 43
  },
  {
   "metadata": {
    "ExecuteTime": {
     "end_time": "2025-01-06T12:05:45.667354Z",
     "start_time": "2025-01-06T12:05:45.664089Z"
    }
   },
   "cell_type": "code",
   "source": [
    "scaler_X.save('scaler_X.json')\n",
    "scaler_y.save('scaler_y.json')"
   ],
   "id": "6312961cf411f",
   "outputs": [],
   "execution_count": 34
  },
  {
   "metadata": {
    "ExecuteTime": {
     "end_time": "2025-01-05T20:57:34.705567Z",
     "start_time": "2025-01-05T20:57:34.700953Z"
    }
   },
   "cell_type": "code",
   "source": [
    "model.load_state_dict(torch.load('best_model.pth'))\n",
    "model.eval()"
   ],
   "id": "7eec2144acec773e",
   "outputs": [
    {
     "name": "stderr",
     "output_type": "stream",
     "text": [
      "/tmp/ipykernel_984486/261288674.py:1: FutureWarning: You are using `torch.load` with `weights_only=False` (the current default value), which uses the default pickle module implicitly. It is possible to construct malicious pickle data which will execute arbitrary code during unpickling (See https://github.com/pytorch/pytorch/blob/main/SECURITY.md#untrusted-models for more details). In a future release, the default value for `weights_only` will be flipped to `True`. This limits the functions that could be executed during unpickling. Arbitrary objects will no longer be allowed to be loaded via this mode unless they are explicitly allowlisted by the user via `torch.serialization.add_safe_globals`. We recommend you start setting `weights_only=True` for any use case where you don't have full control of the loaded file. Please open an issue on GitHub for any issues related to this experimental feature.\n",
      "  model.load_state_dict(torch.load('best_model.pth'))\n"
     ]
    },
    {
     "data": {
      "text/plain": [
       "FlightNN(\n",
       "  (network): Sequential(\n",
       "    (0): Linear(in_features=2, out_features=64, bias=True)\n",
       "    (1): ReLU()\n",
       "    (2): Dropout(p=0.2, inplace=False)\n",
       "    (3): Linear(in_features=64, out_features=32, bias=True)\n",
       "    (4): ReLU()\n",
       "    (5): Dropout(p=0.1, inplace=False)\n",
       "    (6): Linear(in_features=32, out_features=1, bias=True)\n",
       "  )\n",
       ")"
      ]
     },
     "execution_count": 24,
     "metadata": {},
     "output_type": "execute_result"
    }
   ],
   "execution_count": 24
  },
  {
   "metadata": {
    "ExecuteTime": {
     "end_time": "2025-01-05T21:00:11.365073Z",
     "start_time": "2025-01-05T21:00:10.140539Z"
    }
   },
   "cell_type": "code",
   "source": [
    "# Make predictions on test set\n",
    "predictions = []\n",
    "actuals = []\n",
    "distance = []\n",
    "with torch.no_grad():\n",
    "    for X_batch, y_batch in test_loader:\n",
    "        X_batch = X_batch.to(device)\n",
    "        pred = model(X_batch).cpu().numpy()\n",
    "        predictions.extend(pred)\n",
    "        actuals.extend(y_batch.numpy())\n",
    "        distance.extend(X_batch.cpu().numpy())\n",
    "\n",
    "\n",
    "# Convert back to original scale\n",
    "predictions = scaler_y.inverse_transform(np.array(predictions).reshape(-1, 1)).ravel()\n",
    "actuals = scaler_y.inverse_transform(np.array(actuals).reshape(-1, 1)).ravel()\n",
    "distance = scaler_X.inverse_transform(np.array(distance))\n",
    "print(distance.shape)\n",
    "print(actuals.shape)\n",
    "\n",
    "# Calculate metrics\n",
    "mse = np.mean((predictions - actuals) ** 2)\n",
    "rmse = np.sqrt(mse)\n",
    "mae = np.mean(np.abs(predictions - actuals))\n",
    "r2 = 1 - np.sum((actuals - predictions) ** 2) / np.sum((actuals - np.mean(actuals)) ** 2)\n",
    "\n",
    "print(\"\\nFinal Metrics:\")\n",
    "print(f\"RMSE: {rmse:.2f}\")\n",
    "print(f\"MAE: {mae:.2f}\")\n",
    "print(f\"R2 Score: {r2:.4f}\")\n",
    "\n",
    "# Save sample predictions\n",
    "sample_results = pd.DataFrame({\n",
    "    \"Distance\": distance[:100, 0],\n",
    "    \"Speed\": distance[:100, 1],\n",
    "    'Actual': actuals[:100],\n",
    "    'Predicted': predictions[:100],\n",
    "    'Error': np.abs(actuals[:100] - predictions[:100])\n",
    "})"
   ],
   "id": "75e16cfcb2d7c859",
   "outputs": [
    {
     "name": "stdout",
     "output_type": "stream",
     "text": [
      "(214786, 2)\n",
      "(214786,)\n",
      "\n",
      "Final Metrics:\n",
      "RMSE: 359.36\n",
      "MAE: 227.13\n",
      "R2 Score: 0.9218\n"
     ]
    }
   ],
   "execution_count": 31
  },
  {
   "metadata": {
    "ExecuteTime": {
     "end_time": "2025-01-05T21:00:19.029760Z",
     "start_time": "2025-01-05T21:00:19.021576Z"
    }
   },
   "cell_type": "code",
   "source": "sample_results",
   "id": "3e69a3465c34130d",
   "outputs": [
    {
     "data": {
      "text/plain": [
       "      Distance       Speed       Actual    Predicted        Error\n",
       "0    11.800724   10.269561   516.000000   453.600861    62.399139\n",
       "1    13.349293  257.777008    57.000019   120.713524    63.713505\n",
       "2   232.274872  786.565186  1604.000000  1515.840210    88.159790\n",
       "3   488.403046  946.830872  2432.000000  2384.249268    47.750732\n",
       "4   588.510315  630.461853  4161.000000  3134.323242  1026.676758\n",
       "..         ...         ...          ...          ...          ...\n",
       "95  414.640533  783.234558  1988.000000  2252.099854   264.099854\n",
       "96  309.117218  453.119202  2616.000000  2111.282715   504.717285\n",
       "97  148.938690  761.216614  1226.000000  1133.465576    92.534424\n",
       "98   86.700539  425.713562  1359.000000   911.570374   447.429626\n",
       "99  175.810669  816.942200  1276.000000  1241.418823    34.581177\n",
       "\n",
       "[100 rows x 5 columns]"
      ],
      "text/html": [
       "<div>\n",
       "<style scoped>\n",
       "    .dataframe tbody tr th:only-of-type {\n",
       "        vertical-align: middle;\n",
       "    }\n",
       "\n",
       "    .dataframe tbody tr th {\n",
       "        vertical-align: top;\n",
       "    }\n",
       "\n",
       "    .dataframe thead th {\n",
       "        text-align: right;\n",
       "    }\n",
       "</style>\n",
       "<table border=\"1\" class=\"dataframe\">\n",
       "  <thead>\n",
       "    <tr style=\"text-align: right;\">\n",
       "      <th></th>\n",
       "      <th>Distance</th>\n",
       "      <th>Speed</th>\n",
       "      <th>Actual</th>\n",
       "      <th>Predicted</th>\n",
       "      <th>Error</th>\n",
       "    </tr>\n",
       "  </thead>\n",
       "  <tbody>\n",
       "    <tr>\n",
       "      <th>0</th>\n",
       "      <td>11.800724</td>\n",
       "      <td>10.269561</td>\n",
       "      <td>516.000000</td>\n",
       "      <td>453.600861</td>\n",
       "      <td>62.399139</td>\n",
       "    </tr>\n",
       "    <tr>\n",
       "      <th>1</th>\n",
       "      <td>13.349293</td>\n",
       "      <td>257.777008</td>\n",
       "      <td>57.000019</td>\n",
       "      <td>120.713524</td>\n",
       "      <td>63.713505</td>\n",
       "    </tr>\n",
       "    <tr>\n",
       "      <th>2</th>\n",
       "      <td>232.274872</td>\n",
       "      <td>786.565186</td>\n",
       "      <td>1604.000000</td>\n",
       "      <td>1515.840210</td>\n",
       "      <td>88.159790</td>\n",
       "    </tr>\n",
       "    <tr>\n",
       "      <th>3</th>\n",
       "      <td>488.403046</td>\n",
       "      <td>946.830872</td>\n",
       "      <td>2432.000000</td>\n",
       "      <td>2384.249268</td>\n",
       "      <td>47.750732</td>\n",
       "    </tr>\n",
       "    <tr>\n",
       "      <th>4</th>\n",
       "      <td>588.510315</td>\n",
       "      <td>630.461853</td>\n",
       "      <td>4161.000000</td>\n",
       "      <td>3134.323242</td>\n",
       "      <td>1026.676758</td>\n",
       "    </tr>\n",
       "    <tr>\n",
       "      <th>...</th>\n",
       "      <td>...</td>\n",
       "      <td>...</td>\n",
       "      <td>...</td>\n",
       "      <td>...</td>\n",
       "      <td>...</td>\n",
       "    </tr>\n",
       "    <tr>\n",
       "      <th>95</th>\n",
       "      <td>414.640533</td>\n",
       "      <td>783.234558</td>\n",
       "      <td>1988.000000</td>\n",
       "      <td>2252.099854</td>\n",
       "      <td>264.099854</td>\n",
       "    </tr>\n",
       "    <tr>\n",
       "      <th>96</th>\n",
       "      <td>309.117218</td>\n",
       "      <td>453.119202</td>\n",
       "      <td>2616.000000</td>\n",
       "      <td>2111.282715</td>\n",
       "      <td>504.717285</td>\n",
       "    </tr>\n",
       "    <tr>\n",
       "      <th>97</th>\n",
       "      <td>148.938690</td>\n",
       "      <td>761.216614</td>\n",
       "      <td>1226.000000</td>\n",
       "      <td>1133.465576</td>\n",
       "      <td>92.534424</td>\n",
       "    </tr>\n",
       "    <tr>\n",
       "      <th>98</th>\n",
       "      <td>86.700539</td>\n",
       "      <td>425.713562</td>\n",
       "      <td>1359.000000</td>\n",
       "      <td>911.570374</td>\n",
       "      <td>447.429626</td>\n",
       "    </tr>\n",
       "    <tr>\n",
       "      <th>99</th>\n",
       "      <td>175.810669</td>\n",
       "      <td>816.942200</td>\n",
       "      <td>1276.000000</td>\n",
       "      <td>1241.418823</td>\n",
       "      <td>34.581177</td>\n",
       "    </tr>\n",
       "  </tbody>\n",
       "</table>\n",
       "<p>100 rows × 5 columns</p>\n",
       "</div>"
      ]
     },
     "execution_count": 32,
     "metadata": {},
     "output_type": "execute_result"
    }
   ],
   "execution_count": 32
  },
  {
   "metadata": {},
   "cell_type": "code",
   "outputs": [],
   "execution_count": null,
   "source": "",
   "id": "1cdedc6959bfe0c8"
  }
 ],
 "metadata": {
  "kernelspec": {
   "display_name": "Python 3",
   "language": "python",
   "name": "python3"
  },
  "language_info": {
   "codemirror_mode": {
    "name": "ipython",
    "version": 2
   },
   "file_extension": ".py",
   "mimetype": "text/x-python",
   "name": "python",
   "nbconvert_exporter": "python",
   "pygments_lexer": "ipython2",
   "version": "2.7.6"
  }
 },
 "nbformat": 4,
 "nbformat_minor": 5
}
